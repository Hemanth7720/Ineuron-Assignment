{
 "cells": [
  {
   "cell_type": "markdown",
   "id": "ba1d582d",
   "metadata": {},
   "source": [
    "# 1.What are the two values of the Boolean data type? How do you write them?"
   ]
  },
  {
   "cell_type": "markdown",
   "id": "1b02af24",
   "metadata": {},
   "source": [
    "The two values of the Boolean data type are:\n",
    "\n",
    "True\n",
    "False"
   ]
  },
  {
   "cell_type": "code",
   "execution_count": null,
   "id": "21e12f00",
   "metadata": {},
   "outputs": [],
   "source": [
    "my_true_value = True\n",
    "my_false_value = False"
   ]
  },
  {
   "cell_type": "markdown",
   "id": "450424fe",
   "metadata": {},
   "source": [
    "# 2. What are the three different types of Boolean operators?"
   ]
  },
  {
   "cell_type": "markdown",
   "id": "af139a11",
   "metadata": {},
   "source": [
    "The three different types of Boolean operators are:\n",
    "\n",
    "Conjunction (AND): and\n",
    "Disjunction (OR): or\n",
    "Negation (NOT): not\n",
    "These operators allow you to combine Boolean expressions to form more complex logical statements. For example:"
   ]
  },
  {
   "cell_type": "code",
   "execution_count": null,
   "id": "c907af9f",
   "metadata": {},
   "outputs": [],
   "source": [
    "# Conjunction (AND)\n",
    "print(True and True)  # Output: True\n",
    "print(True and False) # Output: False\n",
    "\n",
    "# Disjunction (OR)\n",
    "print(True or True)  # Output: True\n",
    "print(True or False) # Output: True\n",
    "print(False or False) # Output: False\n",
    "\n",
    "# Negation (NOT)\n",
    "print(not True)  # Output: False\n",
    "print(not False) # Output: True"
   ]
  },
  {
   "cell_type": "markdown",
   "id": "d96e63be",
   "metadata": {},
   "source": [
    "# Make a list of each Boolean operators truth tables (i.e. every possible combination of Boolean values for the operator and what it evaluate )."
   ]
  },
  {
   "cell_type": "markdown",
   "id": "a32c6e1d",
   "metadata": {},
   "source": [
    "Conjunction (AND)\n",
    "\n",
    "Input 1\tInput 2\tOutput\n",
    "True\tTrue\tTrue\n",
    "True\tFalse\tFalse\n",
    "False\tTrue\tFalse\n",
    "False\tFalse\tFalse\n",
    "\n",
    "Disjunction (OR)\n",
    "\n",
    "Input 1\tInput 2\tOutput\n",
    "True\tTrue\tTrue\n",
    "True\tFalse\tTrue\n",
    "False\tTrue\tTrue\n",
    "False\tFalse\tFalse\n",
    "\n",
    "Negation (NOT)\n",
    "\n",
    "Input\tOutput\n",
    "True\tFalse\n",
    "False\tTrue\n"
   ]
  },
  {
   "cell_type": "markdown",
   "id": "73008d15",
   "metadata": {},
   "source": [
    "# 4. What are the values of the following expressions?\n",
    "    (5 >  4) and (3 == 5)\n",
    "    not (5 > 4)\n",
    "    (5 > 4) or (3 == 5)\n",
    "    not ((5 > 4) or (3 == 5))\n",
    "    (True and True) and (True == False)\n",
    "    (not False) or (not True)"
   ]
  },
  {
   "cell_type": "markdown",
   "id": "871be9e1",
   "metadata": {},
   "source": [
    "1. (5 > 4) and (3 == 5):\n",
    "\n",
    "    5 > 4 is True.\n",
    "\n",
    "    3 == 5 is False.\n",
    "\n",
    "    True and False is False.\n",
    "\n",
    "    #Output:* False\n",
    "\n",
    "\n",
    " 2. not (5 > 4):\n",
    "\n",
    "    5 > 4 is True.\n",
    "\n",
    "    not True is False.\n",
    "\n",
    "    Output:* False\n",
    "\n",
    "\n",
    "3. (5 > 4) or (3 == 5):\n",
    "\n",
    "    5 > 4 is True.\n",
    "\n",
    "    3 == 5 is False.\n",
    "\n",
    "    True or False is True.\n",
    "\n",
    "    Output:* True\n",
    "\n",
    "\n",
    "    4.not ((5 > 4) or (3 == 5)):\n",
    "\n",
    "    5 > 4 is True.\n",
    "\n",
    "    3 == 5 is False.\n",
    "\n",
    "    True or False is True.\n",
    "\n",
    "    not True is False.\n",
    "\n",
    "    Output:* False\n",
    "\n",
    "\n",
    "5. (True and True) and (True == False):\n",
    "\n",
    "    True and True is True.\n",
    "\n",
    "    True == False is False.\n",
    "\n",
    "    True and False is False.\n",
    "\n",
    "    Output:* False\n",
    "\n",
    "\n",
    "6. (not False) or (not True):\n",
    "\n",
    "    not False is True.\n",
    "    \n",
    "    not True is False.\n",
    "\n",
    "    True or False is True.\n",
    "\n",
    "    Output:* True"
   ]
  },
  {
   "cell_type": "markdown",
   "id": "20a2871c",
   "metadata": {},
   "source": [
    "# 5. What are the six comparison operators?"
   ]
  },
  {
   "cell_type": "markdown",
   "id": "a2d69568",
   "metadata": {},
   "source": [
    "The six comparison operators in Python are:\n",
    "\n",
    "Equal to: ==\n",
    "Not equal to: !=\n",
    "Greater than: >\n",
    "Less than: <\n",
    "Greater than or equal to: >=\n",
    "Less than or equal to: <=\n",
    "These operators allow you to compare two values and evaluate them as True or False. For example:"
   ]
  },
  {
   "cell_type": "code",
   "execution_count": null,
   "id": "bc0d7ab9",
   "metadata": {},
   "outputs": [],
   "source": [
    "print(5 == 5)  # Output: True\n",
    "print(5 != 3)  # Output: True\n",
    "print(3 > 4)  # Output: False\n",
    "print(2 <= 1)  # Output: False"
   ]
  },
  {
   "cell_type": "markdown",
   "id": "1dcf5df5",
   "metadata": {},
   "source": [
    "# 6. How do you tell the difference between the equal to and assignment operators ?Describe a condition and when you would use one."
   ]
  },
  {
   "cell_type": "markdown",
   "id": "57516a4a",
   "metadata": {},
   "source": [
    "\n",
    "# Equal to operator: ==\n",
    "\n",
    "Used to compare two values and evaluate them as True or False.\n",
    "Does not modify the value of any variable.\n",
    "\n",
    "# Assignment operator: =\n",
    "\n",
    "Used to assign a value to a variable.\n",
    "Modifies the value of the variable on the left-hand side.\n",
    "\n",
    "Condition:\n",
    "a = 5\n",
    "b = 5\n",
    "\n",
    "In this condition, we have two variables a and b with the same value of 5.\n",
    "\n",
    "# When to use the equal to operator:\n",
    "\n",
    "if a == b:\n",
    "    print(\"a is equal to b\")\n",
    "\n",
    "This code snippet uses the equal to operator to compare the values of a and b. If the values are equal, the message \"a is equal to b\" will be printed.\n",
    "\n",
    "# When to use the assignment operator:\n",
    "\n",
    " a = 10\n",
    "\n",
    "This code snippet uses the assignment operator to assign the value 10 to the variable a. The value of a will be modified to 10."
   ]
  },
  {
   "cell_type": "markdown",
   "id": "30053132",
   "metadata": {},
   "source": [
    "# 7. Identify the three blocks in this code:\n",
    "spam = 0\n",
    "if spam == 10:\n",
    "print(eggs)\n",
    "if spam > 5:\n",
    "print(bacon)\n",
    "else:\n",
    "print(ham)\n",
    "print(spam)\n",
    "print(spam)"
   ]
  },
  {
   "cell_type": "markdown",
   "id": "5f666e6d",
   "metadata": {},
   "source": [
    "The three blocks in the code are:\n",
    "\n",
    "# First block:\n",
    " \n",
    "if spam == 10:\n",
    "    print('eggs')\n",
    "\n",
    "This block checks if the value of spam is equal to 10. If it is, the message \"eggs\" will be printed.\n",
    "\n",
    "# Second block:\n",
    " \n",
    "if spam > 5:\n",
    "    print('bacon')\n",
    "else:\n",
    "    print('ham')\n",
    "\n",
    "This block checks if the value of spam is greater than 5. If it is, the message \"bacon\" will be printed. Otherwise, the message \"ham\" will be printed.\n",
    "\n",
    "# Third block:\n",
    " \n",
    "print('spam')\n",
    "print('spam')\n",
    "\n",
    "This block prints the message \"spam\" twice."
   ]
  },
  {
   "cell_type": "markdown",
   "id": "a096c86e",
   "metadata": {},
   "source": [
    "# 8. Write code that prints Hello if 1 is stored in spam, prints Howdy if 2 is stored in spam, and prints\n"
   ]
  },
  {
   "cell_type": "code",
   "execution_count": 2,
   "id": "25e554a3",
   "metadata": {},
   "outputs": [
    {
     "name": "stdout",
     "output_type": "stream",
     "text": [
      "Enter a number: 7\n",
      "Greetings!\n"
     ]
    }
   ],
   "source": [
    "spam = int(input(\"Enter a number: \"))\n",
    "\n",
    "if spam == 1:\n",
    "    print(\"Hello\")\n",
    "elif spam == 2:\n",
    "    print(\"Howdy\")\n",
    "else:\n",
    "    print(\"Greetings!\")"
   ]
  },
  {
   "cell_type": "markdown",
   "id": "0e4c39b7",
   "metadata": {},
   "source": [
    "# 9. If your programme is stuck in an endless loop, what keys you’ll press? "
   ]
  },
  {
   "cell_type": "markdown",
   "id": "7133177e",
   "metadata": {},
   "source": [
    "If the program is stuck in an endless loop, you can press the following keys to interrupt the execution:\n",
    "\n",
    "Windows: Ctrl + C\n",
    "Mac: Command + C\n",
    "Linux: Ctrl + C\n",
    "\n",
    "This will send an interrupt signal to the kernel, which will terminate the currently running program.\n"
   ]
  },
  {
   "cell_type": "markdown",
   "id": "9b206784",
   "metadata": {},
   "source": [
    "# 10. How can you tell the difference between break and continue?"
   ]
  },
  {
   "cell_type": "markdown",
   "id": "21c00734",
   "metadata": {},
   "source": [
    "# Break:\n",
    "\n",
    "Terminates the loop entirely.\n",
    "Exits the loop immediately, skipping any remaining iterations.\n",
    "Can be used in both for and while loops.\n",
    "\n",
    "# Continue:\n",
    "\n",
    "Skips the current iteration of the loop.\n",
    "Continues to the next iteration of the loop.\n",
    "Can only be used in for loops.\n",
    "Example:"
   ]
  },
  {
   "cell_type": "code",
   "execution_count": 5,
   "id": "5d3f5e64",
   "metadata": {},
   "outputs": [
    {
     "name": "stdout",
     "output_type": "stream",
     "text": [
      "0\n",
      "1\n",
      "2\n"
     ]
    }
   ],
   "source": [
    "# Break statement\n",
    "for i in range(5):\n",
    "    if i == 3:\n",
    "        break\n",
    "    print(i)\n",
    "\n"
   ]
  },
  {
   "cell_type": "code",
   "execution_count": 6,
   "id": "e30ad9d2",
   "metadata": {},
   "outputs": [
    {
     "name": "stdout",
     "output_type": "stream",
     "text": [
      "0\n",
      "1\n",
      "2\n",
      "4\n"
     ]
    }
   ],
   "source": [
    "# Continue statement\n",
    "for i in range(5):\n",
    "    if i == 3:\n",
    "        continue\n",
    "    print(i)\n"
   ]
  },
  {
   "cell_type": "markdown",
   "id": "8b442050",
   "metadata": {},
   "source": [
    "# 11. In a for loop, what is the difference between range(10), range(0, 10), and range(0, 10, 1)?"
   ]
  },
  {
   "cell_type": "markdown",
   "id": "7eae8a1c",
   "metadata": {},
   "source": [
    "There is no difference between range(10), range(0, 10), and range(0, 10, 1) in a for loop. All three will iterate over the numbers from 0 to 9 (inclusive).\n",
    "\n",
    "Explanation:\n",
    "\n",
    "#range(10): This creates a range object starting from 0 and ending at 9 (inclusive).\n",
    "\n",
    "range(0, 10): This creates a range object starting from 0 (inclusive) and ending at 10 (exclusive). The second argument specifies the ending value, which is exclusive in Python.\n",
    "\n",
    "range(0, 10, 1): This creates a range object starting from 0 (inclusive), ending at 10 (exclusive), with a step size of 1. The third argument specifies the step size, which defaults to 1 if not provided.\n",
    "\n",
    "In all three cases, the range object will contain the following values: [0, 1, 2, 3, 4, 5, 6, 7, 8, 9]. Therefore, a for loop using any of these range objects will iterate over the same sequence of numbers.\n",
    "\n",
    "Example:"
   ]
  },
  {
   "cell_type": "code",
   "execution_count": null,
   "id": "f1eedd26",
   "metadata": {},
   "outputs": [],
   "source": [
    "for i in range(10):\n",
    "    print(i)\n",
    "\n",
    "# Output:\n",
    "# 0\n",
    "# 1\n",
    "# 2\n",
    "# 3\n",
    "# 4\n",
    "# 5\n",
    "# 6\n",
    "# 7\n",
    "# 8\n",
    "# 9\n",
    "\n",
    "for i in range(0, 10):\n",
    "    print(i)\n",
    "\n",
    "# Output:\n",
    "# 0\n",
    "# 1\n",
    "# 2\n",
    "# 3\n",
    "# 4\n",
    "# 5\n",
    "# 6\n",
    "# 7\n",
    "# 8\n",
    "# 9\n",
    "\n",
    "for i in range(0, 10, 1):\n",
    "    print(i)\n",
    "\n",
    "# Output:\n",
    "# 0\n",
    "# 1\n",
    "# 2\n",
    "# 3\n",
    "# 4\n",
    "# 5\n",
    "# 6\n",
    "# 7\n",
    "# 8\n",
    "# 9"
   ]
  },
  {
   "cell_type": "markdown",
   "id": "ee8a715e",
   "metadata": {},
   "source": [
    "# 12. Write a short program that prints the numbers 1 to 10 using a for loop. Then write an equivalentprogram that prints the numbers 1 to 10 using a while loop."
   ]
  },
  {
   "cell_type": "code",
   "execution_count": 7,
   "id": "401b3e0c",
   "metadata": {},
   "outputs": [
    {
     "name": "stdout",
     "output_type": "stream",
     "text": [
      "1\n",
      "2\n",
      "3\n",
      "4\n",
      "5\n",
      "6\n",
      "7\n",
      "8\n",
      "9\n",
      "10\n"
     ]
    }
   ],
   "source": [
    "# for loop\n",
    "for i in range(1, 11):\n",
    "    print(i)"
   ]
  },
  {
   "cell_type": "code",
   "execution_count": 8,
   "id": "dab10336",
   "metadata": {},
   "outputs": [
    {
     "name": "stdout",
     "output_type": "stream",
     "text": [
      "1\n",
      "2\n",
      "3\n",
      "4\n",
      "5\n",
      "6\n",
      "7\n",
      "8\n",
      "9\n",
      "10\n"
     ]
    }
   ],
   "source": [
    "#while loop\n",
    "i = 1\n",
    "while i <= 10:\n",
    "    print(i)\n",
    "    i += 1"
   ]
  },
  {
   "cell_type": "markdown",
   "id": "553b63be",
   "metadata": {},
   "source": [
    "# 13. If you had a function named bacon() inside a module named spam, how would you call it afterimporting spam?"
   ]
  },
  {
   "cell_type": "markdown",
   "id": "ea694936",
   "metadata": {},
   "source": [
    "To call the bacon() function after importing the spam module, you would use the following syntax:\n",
    "\n",
    "import spam\n",
    "\n",
    "spam.bacon()\n",
    "\n",
    "Explanation:\n",
    "\n",
    "Import the spam module:\n",
    " \n",
    "import spam\n",
    "\n",
    "This line imports the spam module into your current Python environment.\n",
    "\n",
    "Call the bacon() function:\n",
    " \n",
    "spam.bacon()\n",
    "\n",
    "This line calls the bacon() function that is defined within the spam module. You need to use the dot operator (.) to access the function from the module."
   ]
  }
 ],
 "metadata": {
  "kernelspec": {
   "display_name": "Python 3 (ipykernel)",
   "language": "python",
   "name": "python3"
  },
  "language_info": {
   "codemirror_mode": {
    "name": "ipython",
    "version": 3
   },
   "file_extension": ".py",
   "mimetype": "text/x-python",
   "name": "python",
   "nbconvert_exporter": "python",
   "pygments_lexer": "ipython3",
   "version": "3.11.5"
  }
 },
 "nbformat": 4,
 "nbformat_minor": 5
}
